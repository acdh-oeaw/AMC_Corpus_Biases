{
 "cells": [
  {
   "cell_type": "markdown",
   "metadata": {},
   "source": [
    "### Importing packages"
   ]
  },
  {
   "cell_type": "code",
   "execution_count": 1,
   "metadata": {},
   "outputs": [],
   "source": [
    "import os\n",
    "import pickle\n",
    "\n",
    "import pandas as pd\n",
    "import matplotlib.pyplot as plt\n",
    "\n",
    "import xml.etree.ElementTree as ET\n",
    "from lxml import etree\n",
    "from bs4 import BeautifulSoup as bs\n",
    "\n",
    "import networkx as nx\n",
    "from networkx.drawing.nx_pydot import graphviz_layout\n",
    "\n",
    "import squarify"
   ]
  },
  {
   "cell_type": "code",
   "execution_count": 2,
   "metadata": {},
   "outputs": [],
   "source": [
    "path = '/home/jovyan/shared/C_amc_141/R_amc_3.1_12921/203_vert_spacy_rftt/'"
   ]
  },
  {
   "cell_type": "markdown",
   "metadata": {},
   "source": [
    "### Retrieving pickle"
   ]
  },
  {
   "cell_type": "code",
   "execution_count": 3,
   "metadata": {},
   "outputs": [],
   "source": [
    "df_files = pd.read_pickle('../outputs/df_files.pkl')"
   ]
  },
  {
   "cell_type": "code",
   "execution_count": 4,
   "metadata": {},
   "outputs": [
    {
     "data": {
      "text/html": [
       "<div>\n",
       "<style scoped>\n",
       "    .dataframe tbody tr th:only-of-type {\n",
       "        vertical-align: middle;\n",
       "    }\n",
       "\n",
       "    .dataframe tbody tr th {\n",
       "        vertical-align: top;\n",
       "    }\n",
       "\n",
       "    .dataframe thead th {\n",
       "        text-align: right;\n",
       "    }\n",
       "</style>\n",
       "<table border=\"1\" class=\"dataframe\">\n",
       "  <thead>\n",
       "    <tr style=\"text-align: right;\">\n",
       "      <th></th>\n",
       "      <th>path</th>\n",
       "      <th>name</th>\n",
       "      <th>extension</th>\n",
       "      <th>size</th>\n",
       "      <th>atime</th>\n",
       "      <th>mtime</th>\n",
       "      <th>ctime</th>\n",
       "      <th>folder</th>\n",
       "      <th>depth</th>\n",
       "      <th>parent</th>\n",
       "      <th>main</th>\n",
       "      <th>source</th>\n",
       "      <th>year</th>\n",
       "      <th>date</th>\n",
       "    </tr>\n",
       "  </thead>\n",
       "  <tbody>\n",
       "    <tr>\n",
       "      <td>0</td>\n",
       "      <td>artikel_/APA/1986/APA_19860220.xml</td>\n",
       "      <td>APA_19860220</td>\n",
       "      <td>xml</td>\n",
       "      <td>6142251</td>\n",
       "      <td>2019-11-13 12:41:38</td>\n",
       "      <td>2019-09-20 08:04:05</td>\n",
       "      <td>2019-09-23 11:43:22</td>\n",
       "      <td>False</td>\n",
       "      <td>4</td>\n",
       "      <td>5</td>\n",
       "      <td>artikel_</td>\n",
       "      <td>APA</td>\n",
       "      <td>1986</td>\n",
       "      <td>1986-02-20</td>\n",
       "    </tr>\n",
       "    <tr>\n",
       "      <td>1</td>\n",
       "      <td>artikel_/APA/1986/APA_19860102.xml</td>\n",
       "      <td>APA_19860102</td>\n",
       "      <td>xml</td>\n",
       "      <td>3397140</td>\n",
       "      <td>2019-11-13 12:41:38</td>\n",
       "      <td>2019-09-20 08:04:05</td>\n",
       "      <td>2019-09-23 11:43:22</td>\n",
       "      <td>False</td>\n",
       "      <td>4</td>\n",
       "      <td>5</td>\n",
       "      <td>artikel_</td>\n",
       "      <td>APA</td>\n",
       "      <td>1986</td>\n",
       "      <td>1986-01-02</td>\n",
       "    </tr>\n",
       "    <tr>\n",
       "      <td>2</td>\n",
       "      <td>artikel_/APA/1986/APA_19860222.xml</td>\n",
       "      <td>APA_19860222</td>\n",
       "      <td>xml</td>\n",
       "      <td>3352934</td>\n",
       "      <td>2019-11-13 12:41:38</td>\n",
       "      <td>2019-09-20 08:04:05</td>\n",
       "      <td>2019-09-23 11:43:22</td>\n",
       "      <td>False</td>\n",
       "      <td>4</td>\n",
       "      <td>5</td>\n",
       "      <td>artikel_</td>\n",
       "      <td>APA</td>\n",
       "      <td>1986</td>\n",
       "      <td>1986-02-22</td>\n",
       "    </tr>\n",
       "    <tr>\n",
       "      <td>3</td>\n",
       "      <td>artikel_/APA/1986/APA_19860103.xml</td>\n",
       "      <td>APA_19860103</td>\n",
       "      <td>xml</td>\n",
       "      <td>3794819</td>\n",
       "      <td>2019-11-13 12:41:38</td>\n",
       "      <td>2019-09-20 08:04:06</td>\n",
       "      <td>2019-09-23 11:43:22</td>\n",
       "      <td>False</td>\n",
       "      <td>4</td>\n",
       "      <td>5</td>\n",
       "      <td>artikel_</td>\n",
       "      <td>APA</td>\n",
       "      <td>1986</td>\n",
       "      <td>1986-01-03</td>\n",
       "    </tr>\n",
       "    <tr>\n",
       "      <td>4</td>\n",
       "      <td>artikel_/APA/1986/APA_19860221.xml</td>\n",
       "      <td>APA_19860221</td>\n",
       "      <td>xml</td>\n",
       "      <td>5763730</td>\n",
       "      <td>2019-11-13 12:41:39</td>\n",
       "      <td>2019-09-20 08:04:06</td>\n",
       "      <td>2019-09-23 11:43:22</td>\n",
       "      <td>False</td>\n",
       "      <td>4</td>\n",
       "      <td>5</td>\n",
       "      <td>artikel_</td>\n",
       "      <td>APA</td>\n",
       "      <td>1986</td>\n",
       "      <td>1986-02-21</td>\n",
       "    </tr>\n",
       "  </tbody>\n",
       "</table>\n",
       "</div>"
      ],
      "text/plain": [
       "                                 path          name extension     size  \\\n",
       "0  artikel_/APA/1986/APA_19860220.xml  APA_19860220       xml  6142251   \n",
       "1  artikel_/APA/1986/APA_19860102.xml  APA_19860102       xml  3397140   \n",
       "2  artikel_/APA/1986/APA_19860222.xml  APA_19860222       xml  3352934   \n",
       "3  artikel_/APA/1986/APA_19860103.xml  APA_19860103       xml  3794819   \n",
       "4  artikel_/APA/1986/APA_19860221.xml  APA_19860221       xml  5763730   \n",
       "\n",
       "                 atime                mtime                ctime  folder  \\\n",
       "0  2019-11-13 12:41:38  2019-09-20 08:04:05  2019-09-23 11:43:22   False   \n",
       "1  2019-11-13 12:41:38  2019-09-20 08:04:05  2019-09-23 11:43:22   False   \n",
       "2  2019-11-13 12:41:38  2019-09-20 08:04:05  2019-09-23 11:43:22   False   \n",
       "3  2019-11-13 12:41:38  2019-09-20 08:04:06  2019-09-23 11:43:22   False   \n",
       "4  2019-11-13 12:41:39  2019-09-20 08:04:06  2019-09-23 11:43:22   False   \n",
       "\n",
       "   depth  parent      main source  year       date  \n",
       "0      4       5  artikel_    APA  1986 1986-02-20  \n",
       "1      4       5  artikel_    APA  1986 1986-01-02  \n",
       "2      4       5  artikel_    APA  1986 1986-02-22  \n",
       "3      4       5  artikel_    APA  1986 1986-01-03  \n",
       "4      4       5  artikel_    APA  1986 1986-02-21  "
      ]
     },
     "execution_count": 4,
     "metadata": {},
     "output_type": "execute_result"
    }
   ],
   "source": [
    "df_files.head()"
   ]
  },
  {
   "cell_type": "markdown",
   "metadata": {},
   "source": [
    "### Examining a single file:"
   ]
  },
  {
   "cell_type": "code",
   "execution_count": 5,
   "metadata": {},
   "outputs": [
    {
     "name": "stdout",
     "output_type": "stream",
     "text": [
      "/home/jovyan/shared/C_amc_141/R_amc_3.1_12921/203_vert_spacy_rftt/artikel_/APA/1986/APA_19860220.xml\n"
     ]
    }
   ],
   "source": [
    "filepath = os.path.join(path, df_files.loc[0, 'path'])\n",
    "print(filepath)"
   ]
  },
  {
   "cell_type": "code",
   "execution_count": 6,
   "metadata": {},
   "outputs": [
    {
     "name": "stdout",
     "output_type": "stream",
     "text": [
      "<file>\n",
      "<doc autor=\"wm\" region=\"agesamt\" datum=\"1986-02-20\" ressort2=\"ausland chronik\" tokens=\"292\" keys=\"JA_1986 AG_APA RS_CA RS_C DA_19860220 MO_198602 DB_APA\" id=\"APA_19860220_APA0001\" mediatype=\"print\" datum_full=\"1986-02-20T00:00:00Z\" docsrc=\"APA\" docsrc_name=\"APA-Meldungen digital\" bibl=\"APA-Meldungen digital  vom 1986-02-20\">\n",
      "<field name=\"stichwort\">\n",
      "<s>\n",
      "Umwelt\tumwelt\t0\tNOUN\tNN\t\tO\t0\tROOT\t0\t-\tUmwelt\tN.Reg.Nom.Sg.Fem\tNN\tUmwelt-n\ttt\n",
      "</s>\n",
      "</field>\n",
      "<field name=\"stichwort\">\n",
      "<s>\n",
      "USA\tusa\t0\tPROPN\tNE\tLOC\tB\t0\tROOT\t0\t-\t-\tN.Name.Gen.Sg.*\tNE\tUSA-n\ttt\n",
      "</s>\n",
      "</field>\n",
      "<field name=\"stichwort\">\n",
      "<s>\n",
      "F\tf\t0\tX\tFM\t\tO\t-\tROOT\t0\t-\t-\tN.Reg.Nom.Sg.Neut\tNN\tF-n\ttt\n",
      "e\te\t1\tX\tFM\t\tO\t-\tuc\t0\t-\t-\tFM\tADJA\te-n\tu\n",
      "a\ta\t2\tX\tFM\t\tO\t-\tuc\t0\t-\t-\tFM\tFM\ta-x\ttt\n",
      "t\tt\t3\tX\tFM\t\tO\t-\tuc\t0\t-\t-\tFM\tNN\tt-n\ttt\n",
      "u\tu\t4\tX\tFM\t\tO\t-\tuc\t0\t-\t-\tN.Name.Nom.Sg.Neut\tADJA\tU-n\td\n",
      "r\tr\t5\tX\tFM\t\tO\t-\tuc\t0\t-\t-\tN.Name.Nom.Sg.Neut\tADJA\tR-n\td\n"
     ]
    }
   ],
   "source": [
    "!head -20 /home/jovyan/shared/C_amc_141/R_amc_3.1_12921/203_vert_spacy_rftt/artikel_/APA/1986/APA_19860220.xml"
   ]
  },
  {
   "cell_type": "code",
   "execution_count": 7,
   "metadata": {},
   "outputs": [],
   "source": [
    "soup = bs(open(filepath, mode='r').read())"
   ]
  },
  {
   "cell_type": "code",
   "execution_count": 8,
   "metadata": {},
   "outputs": [
    {
     "name": "stdout",
     "output_type": "stream",
     "text": [
      "\n",
      "\n",
      "\n",
      "\n",
      "Umwelt\tumwelt\t0\tNOUN\tNN\t\tO\t0\tROOT\t0\t-\tUmwelt\tN.Reg.Nom.Sg.Fem\tNN\tUmwelt-n\ttt\n",
      "\n",
      "\n",
      "\n",
      "\n",
      "USA\tusa\t0\tPROPN\tNE\tLOC\tB\t0\tROOT\t0\t-\t-\tN.Name.Gen.Sg.*\tNE\tUSA-n\ttt\n",
      "\n",
      "\n",
      "\n",
      "\n",
      "F\tf\t0\tX\tFM\t\tO\t-\tROOT\t0\t-\t-\tN.Reg.Nom.Sg.Neut\tNN\tF-n\ttt\n",
      "e\te\t1\tX\tFM\t\tO\t-\tuc\t0\t-\t-\tFM\tADJA\te-n\tu\n",
      "a\ta\t2\tX\tFM\t\tO\t-\tuc\t0\t-\t-\tFM\tFM\ta-x\ttt\n",
      "t\tt\t3\tX\tFM\t\tO\t-\tuc\t0\t-\t-\tFM\tNN\tt-n\ttt\n",
      "u\tu\t4\tX\tFM\t\tO\t-\tuc\t0\t-\t-\tN.Name.Nom.Sg.Neut\tADJA\tU-n\td\n",
      "r\tr\t5\tX\tFM\t\tO\t-\tuc\t0\t-\t-\tN.Name.Nom.Sg.Neut\tADJA\tR-n\td\n",
      "e\te\t6\tX\tFM\t\tO\t-\tuc\t0\t-\t-\tN.Name.*.*.*\tNN\tE-n\ttt\n",
      "\n",
      "\n",
      "\n",
      "\n",
      "\n",
      "Geht\tgeht\t0\t\n"
     ]
    }
   ],
   "source": [
    "print(soup.text[0:500])"
   ]
  },
  {
   "cell_type": "code",
   "execution_count": 9,
   "metadata": {},
   "outputs": [
    {
     "name": "stdout",
     "output_type": "stream",
     "text": [
      "15\n",
      "['Umwelt', 'umwelt', '0', 'NOUN', 'NN', 'O', '0', 'ROOT', '0', '-', 'Umwelt', 'N.Reg.Nom.Sg.Fem', 'NN', 'Umwelt-n', 'tt']\n",
      "16\n",
      "['USA', 'usa', '0', 'PROPN', 'NE', 'LOC', 'B', '0', 'ROOT', '0', '-', '-', 'N.Name.Gen.Sg.*', 'NE', 'USA-n', 'tt']\n",
      "105\n",
      "['F', 'f', '0', 'X', 'FM', 'O', '-', 'ROOT', '0', '-', '-', 'N.Reg.Nom.Sg.Neut', 'NN', 'F-n', 'tt', 'e', 'e', '1', 'X', 'FM', 'O', '-', 'uc', '0', '-', '-', 'FM', 'ADJA', 'e-n', 'u', 'a', 'a', '2', 'X', 'FM', 'O', '-', 'uc', '0', '-', '-', 'FM', 'FM', 'a-x', 'tt', 't', 't', '3', 'X', 'FM', 'O', '-', 'uc', '0', '-', '-', 'FM', 'NN', 't-n', 'tt', 'u', 'u', '4', 'X', 'FM', 'O', '-', 'uc', '0', '-', '-', 'N.Name.Nom.Sg.Neut', 'ADJA', 'U-n', 'd', 'r', 'r', '5', 'X', 'FM', 'O', '-', 'uc', '0', '-', '-', 'N.Name.Nom.Sg.Neut', 'ADJA', 'R-n', 'd', 'e', 'e', '6', 'X', 'FM', 'O', '-', 'uc', '0', '-', '-', 'N.Name.*.*.*', 'NN', 'E-n', 'tt']\n",
      "61\n",
      "['Geht', 'geht', '0', 'VERB', 'VVFIN', 'O', '-', 'ROOT', '0', '-', 'gehen', 'VFIN.Full.3.Sg.Pres.Ind', 'VVFIN', 'gehen-v', 'tt', 'Amerika', 'amerika', '1', 'PROPN', 'NE', 'LOC', 'B', '0', 'sb', '0', '-', '-', 'N.Name.Acc.Sg.Neut', 'NE', 'Amerika-n', 'tt', 'unter', 'unter', '2', 'PART', 'PTKVZ', 'O', '-', 'svp', '0', '-', '-', 'PART.Verb', 'PTKVZ', 'unter-x', 'tt', '?', '?', '3', 'PUNCT', '$.', 'O', '-', 'punct', '0', '-', '-', 'SYM.Pun.Sent', '$.', '?-x', 'tt']\n",
      "15\n",
      "['Utl', 'utl', '0', 'NOUN', 'NN', 'O', '0', 'ROOT', '0', '-', '-', 'N.Reg.Nom.Sg.Masc', 'NE', 'Utl-n', 'u']\n",
      "15\n",
      "[':', ':', '2', 'PUNCT', '$.', 'O', '-', 'ROOT', '2', '-', '-', 'SYM.Pun.Colon', '$.', ':-x', 'tt']\n",
      "15\n",
      "['Experten', 'experten', '3', 'NOUN', 'NN', 'O', '0', 'ROOT', '3', '-', 'Experte', 'N.Reg.Nom.Pl.Masc', 'NN', 'Experte-n', 'tt']\n",
      "90\n",
      "['Anstieg', 'anstieg', '5', 'NOUN', 'NN', 'O', '0', 'sb', '8', '-', 'Anstieg', 'N.Reg.Nom.Sg.Masc', 'NN', 'Anstieg-n', 'tt', 'des', 'des', '6', 'DET', 'ART', 'O', '-', 'nk', '7', '-', '-', 'ART.Def.Gen.Sg.Masc', 'ART', 'die-x', 'tt', 'Meeresspiegels', 'meeresspiegels', '7', 'NOUN', 'NN', 'O', '-', 'ag', '5', '-', 'Meeresspiegel', 'N.Reg.Gen.Sg.Masc', 'NN', 'Meeresspiegel-n', 'tt', 'bedroht', 'bedroht', '8', 'VERB', 'VVFIN', 'O', '-', 'ROOT', '8', '-', 'bedrohen', 'VFIN.Full.3.Sg.Pres.Ind', 'VVFIN', 'bedrohen-v', 'tt', 'die', 'die', '9', 'DET', 'ART', 'O', '-', 'nk', '10', '-', '-', 'ART.Def.Acc.Pl.Fem', 'ART', 'die-x', 'tt', 'Küsten', 'küsten', '10', 'NOUN', 'NN', 'O', '-', 'oa', '8', '-', 'Küste', 'N.Reg.Acc.Pl.Fem', 'NN', 'Küste-n', 'tt']\n",
      "15\n",
      "['=', '=', '11', 'X', 'XY', 'O', '-', 'ROOT', '11', '-', '-', 'SYM.Other.XY', '$(', '=-x', 'tt']\n",
      "32\n",
      "['New', 'new', '0', 'PROPN', 'NE', 'LOC', 'B', '0', 'pnc', '1', '-', '-', 'N.Name.*.*.*', 'NE', 'New-n', 'tt', 'York', 'york', '1', 'PROPN', 'NE', 'LOC', 'I', '0', 'ROOT', '1', '-', '-', 'N.Name.Nom.Sg.Neut', 'NE', 'York-n', 'tt']\n"
     ]
    }
   ],
   "source": [
    "for x in soup.find_all('s')[0:10]:\n",
    "    print(len(x.contents[0].split()))\n",
    "    print(x.contents[0].split())"
   ]
  },
  {
   "cell_type": "code",
   "execution_count": null,
   "metadata": {},
   "outputs": [],
   "source": []
  }
 ],
 "metadata": {
  "kernelspec": {
   "display_name": "Python 3",
   "language": "python",
   "name": "python3"
  },
  "language_info": {
   "codemirror_mode": {
    "name": "ipython",
    "version": 3
   },
   "file_extension": ".py",
   "mimetype": "text/x-python",
   "name": "python",
   "nbconvert_exporter": "python",
   "pygments_lexer": "ipython3",
   "version": "3.7.3"
  }
 },
 "nbformat": 4,
 "nbformat_minor": 4
}
