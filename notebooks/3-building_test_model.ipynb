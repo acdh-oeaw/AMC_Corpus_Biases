{
 "cells": [
  {
   "cell_type": "code",
   "execution_count": 51,
   "metadata": {},
   "outputs": [],
   "source": [
    "## Installing fasttext package if needed\n",
    "!pip -q install -U fasttext seaborn gensim scikit-learn numpy pandas\n",
    "\n",
    "#https://radimrehurek.com/gensim/models/fasttext.html\n",
    "#https://colab.research.google.com/drive/1_jZOV8G-zr11aHYcgV9IFpCgObA4Br1E#scrollTo=62Ui7K--RZry\n",
    "#https://www.kaggle.com/pierremegret/gensim-word2vec-tutorial"
   ]
  },
  {
   "cell_type": "code",
   "execution_count": 52,
   "metadata": {},
   "outputs": [],
   "source": [
    "import os\n",
    "import sys\n",
    "import re\n",
    "import pickle\n",
    "import json\n",
    "\n",
    "import pandas as pd\n",
    "import numpy as np\n",
    "import matplotlib.pyplot as plt\n",
    "import seaborn as sns\n",
    "\n",
    "from gensim.models.fasttext import FastText\n",
    "from gensim.models import Word2Vec\n",
    "\n",
    "import fasttext\n",
    "import fasttext.util\n",
    "\n",
    "from sklearn.decomposition import PCA\n",
    "from sklearn.manifold import TSNE\n",
    "\n",
    "import parser"
   ]
  },
  {
   "cell_type": "markdown",
   "metadata": {},
   "source": [
    "### Retrieving pickle"
   ]
  },
  {
   "cell_type": "code",
   "execution_count": 2,
   "metadata": {},
   "outputs": [],
   "source": [
    "df_files = pd.read_pickle('../outputs/df_files.pkl')"
   ]
  },
  {
   "cell_type": "code",
   "execution_count": 4,
   "metadata": {},
   "outputs": [],
   "source": [
    "folder = '/home/jovyan/shared/C_amc_141/R_amc_3.1_12921/203_vert_spacy_rftt/'"
   ]
  },
  {
   "cell_type": "code",
   "execution_count": 33,
   "metadata": {},
   "outputs": [],
   "source": [
    "for filepath in df_files[0:1].path:\n",
    "    path = os.path.join(folder, filepath)\n",
    "    response = parser.parse(path)\n",
    "    response = list(response)"
   ]
  },
  {
   "cell_type": "code",
   "execution_count": 34,
   "metadata": {},
   "outputs": [],
   "source": [
    "# Defining values for parameters\n",
    "embedding_size = 300\n",
    "window_size = 5\n",
    "min_word = 3\n",
    "down_sampling = 1e-2\n",
    "\n",
    "\n",
    "model = FastText(response,\n",
    "                 size=embedding_size,\n",
    "                 window=window_size,\n",
    "                 min_count=min_word,\n",
    "                 sample=down_sampling,\n",
    "                 workers = -1,\n",
    "                 sg=1,\n",
    "                 iter=100)"
   ]
  },
  {
   "cell_type": "code",
   "execution_count": 35,
   "metadata": {},
   "outputs": [],
   "source": [
    "# Save fastText gensim model\n",
    "model.save(\"./amc.model\")"
   ]
  },
  {
   "cell_type": "code",
   "execution_count": 36,
   "metadata": {},
   "outputs": [],
   "source": [
    "# Load saved gensim fastText model\n",
    "model = Word2Vec.load(\"./amc.model\")"
   ]
  },
  {
   "cell_type": "code",
   "execution_count": 37,
   "metadata": {},
   "outputs": [
    {
     "data": {
      "text/plain": [
       "[('heute', 0.38442522287368774),\n",
       " ('bedeute', 0.2580488920211792),\n",
       " ('Bergleute', 0.2148878276348114),\n",
       " ('erreicht', 0.20485587418079376),\n",
       " ('österreichischen', 0.19959671795368195),\n",
       " ('Österreichischen', 0.18770058453083038),\n",
       " ('31.', 0.18277209997177124),\n",
       " ('reichte', 0.18252317607402802),\n",
       " ('reichischen', 0.18193921446800232),\n",
       " ('ernannt.', 0.18182086944580078)]"
      ]
     },
     "execution_count": 37,
     "metadata": {},
     "output_type": "execute_result"
    }
   ],
   "source": [
    "model.wv.most_similar(\"Heute\", topn=10)"
   ]
  },
  {
   "cell_type": "code",
   "execution_count": 38,
   "metadata": {},
   "outputs": [],
   "source": [
    "for filepath in df_files[1:2].path:\n",
    "    path = os.path.join(folder, filepath)\n",
    "    response = parser.parse(path)\n",
    "    response = list(response)"
   ]
  },
  {
   "cell_type": "code",
   "execution_count": 39,
   "metadata": {},
   "outputs": [],
   "source": [
    "model.build_vocab(response, update=True)  # Update the vocabulary\n",
    "model.train(response, total_examples=len(response), epochs=model.epochs)"
   ]
  },
  {
   "cell_type": "code",
   "execution_count": 40,
   "metadata": {},
   "outputs": [
    {
     "data": {
      "text/plain": [
       "[('heute', 0.38442522287368774),\n",
       " ('bedeute', 0.2580488920211792),\n",
       " ('Bergleute', 0.2148878276348114),\n",
       " ('erreicht', 0.20485587418079376),\n",
       " ('österreichischen', 0.19959671795368195),\n",
       " ('Österreichischen', 0.18770058453083038),\n",
       " ('31.', 0.18277209997177124),\n",
       " ('reichte', 0.18252317607402802),\n",
       " ('reichischen', 0.18193921446800232),\n",
       " ('ernannt.', 0.18182086944580078)]"
      ]
     },
     "execution_count": 40,
     "metadata": {},
     "output_type": "execute_result"
    }
   ],
   "source": [
    "model.wv.most_similar(\"Heute\", topn=10)"
   ]
  },
  {
   "cell_type": "code",
   "execution_count": 41,
   "metadata": {},
   "outputs": [],
   "source": [
    "for filepath in df_files[2:3].path:\n",
    "    path = os.path.join(folder, filepath)\n",
    "    response = parser.parse(path)\n",
    "    response = list(response)"
   ]
  },
  {
   "cell_type": "code",
   "execution_count": 42,
   "metadata": {},
   "outputs": [],
   "source": [
    "model.build_vocab(response, update=True)  # Update the vocabulary\n",
    "model.train(response, total_examples=len(response), epochs=model.epochs)"
   ]
  },
  {
   "cell_type": "code",
   "execution_count": 43,
   "metadata": {},
   "outputs": [
    {
     "data": {
      "text/plain": [
       "[('heute', 0.38442522287368774),\n",
       " ('bedeute', 0.2580488920211792),\n",
       " ('Bergleute', 0.2148878276348114),\n",
       " ('erreicht', 0.20485587418079376),\n",
       " ('Piste', 0.20303618907928467),\n",
       " ('österreichischen', 0.19959671795368195),\n",
       " ('Österreichischen', 0.18770058453083038),\n",
       " ('Leute,', 0.18441756069660187),\n",
       " ('31.', 0.18277209997177124),\n",
       " ('reichte', 0.18252317607402802)]"
      ]
     },
     "execution_count": 43,
     "metadata": {},
     "output_type": "execute_result"
    }
   ],
   "source": [
    "model.wv.most_similar(\"Heute\", topn=10)"
   ]
  },
  {
   "cell_type": "code",
   "execution_count": 44,
   "metadata": {},
   "outputs": [],
   "source": [
    "def tsne_plot(for_word, w2v_model):\n",
    "    # trained fastText model dimention\n",
    "    dim_size = w2v_model.wv.vectors.shape[1]\n",
    "    arrays = np.empty((0, dim_size), dtype='f')\n",
    "    word_labels = [for_word]\n",
    "    color_list  = ['red']\n",
    "    # adds the vector of the query word\n",
    "    arrays = np.append(arrays, w2v_model.wv.__getitem__([for_word]), axis=0)\n",
    "    # gets list of most similar words\n",
    "    sim_words = w2v_model.wv.most_similar(for_word, topn=10)\n",
    "    # adds the vector for each of the closest words to the array\n",
    "    for wrd_score in sim_words:\n",
    "        wrd_vector = w2v_model.wv.__getitem__([wrd_score[0]])\n",
    "        word_labels.append(wrd_score[0])\n",
    "        color_list.append('green')\n",
    "        arrays = np.append(arrays, wrd_vector, axis=0)\n",
    "    #---------------------- Apply PCA and tsne to reduce dimention --------------\n",
    "    # fit 2d PCA model to the similar word vectors\n",
    "    model_pca = PCA(n_components = 10).fit_transform(arrays)\n",
    "    # Finds 2d coordinates t-SNE\n",
    "    np.set_printoptions(suppress=True)\n",
    "    Y = TSNE(n_components=2, random_state=0, perplexity=15).fit_transform(model_pca)\n",
    "    # Sets everything up to plot\n",
    "    df_plot = pd.DataFrame({'x': [x for x in Y[:, 0]],\n",
    "                            'y': [y for y in Y[:, 1]],\n",
    "                            'words_name': word_labels,\n",
    "                            'words_color': color_list})\n",
    "    #------------------------- tsne plot Python -----------------------------------\n",
    "    # plot dots with color and position\n",
    "    fig, ax = plt.subplots(figsize=(16,10))\n",
    "    plot_dot = sns.regplot(data=df_plot,\n",
    "                           x=\"x\",\n",
    "                           y=\"y\",\n",
    "                           fit_reg=False,\n",
    "                           marker=\"o\",\n",
    "                           ax=ax,\n",
    "                           scatter_kws={'s': 40,\n",
    "                                        'facecolors': df_plot['words_color']\n",
    "                                        }\n",
    "                           )\n",
    " \n",
    "    # Adds annotations with color one by one with a loop\n",
    "    for line in range(0, df_plot.shape[0]):\n",
    "         plot_dot.text(df_plot[\"x\"][line],\n",
    "                 df_plot['y'][line],\n",
    "                 '  ' + df_plot[\"words_name\"][line].title(),\n",
    "                 horizontalalignment='left',\n",
    "                 verticalalignment='bottom', size='medium',\n",
    "                 color=df_plot['words_color'][line],\n",
    "                 weight='normal'\n",
    "                ).set_size(15)\n",
    " \n",
    "    plt.xlim(Y[:, 0].min()-50, Y[:, 0].max()+50)\n",
    "    plt.ylim(Y[:, 1].min()-50, Y[:, 1].max()+50)\n",
    "    plt.title('t-SNE visualization for word \"{}'.format(for_word.title()) +'\"')"
   ]
  },
  {
   "cell_type": "code",
   "execution_count": 49,
   "metadata": {},
   "outputs": [
    {
     "data": {
      "image/png": "[encoded data removed]",
      "text/plain": [
       "<Figure size 1152x720 with 1 Axes>"
      ]
     },
     "metadata": {
      "needs_background": "light"
     },
     "output_type": "display_data"
    }
   ],
   "source": [
    "# tsne plot for top 10 similar word to 'chicken'\n",
    "tsne_plot(for_word=\"Heute\", w2v_model=model)"
   ]
  },
  {
   "cell_type": "code",
   "execution_count": null,
   "metadata": {},
   "outputs": [],
   "source": []
  }
 ],
 "metadata": {
  "kernelspec": {
   "display_name": "Python 3",
   "language": "python",
   "name": "python3"
  },
  "language_info": {
   "codemirror_mode": {
    "name": "ipython",
    "version": 3
   },
   "file_extension": ".py",
   "mimetype": "text/x-python",
   "name": "python",
   "nbconvert_exporter": "python",
   "pygments_lexer": "ipython3",
   "version": "3.7.3"
  }
 },
 "nbformat": 4,
 "nbformat_minor": 4
}
